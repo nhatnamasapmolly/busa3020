{
 "cells": [
  {
   "cell_type": "markdown",
   "metadata": {},
   "source": [
    "## Business Analytics BUSA3020- Advanced Analytics Techniques\n",
    "## S2 2025\n",
    "##  *Programming Task 1* {-}\n",
    "\n",
    "\n",
    "---"
   ]
  },
  {
   "cell_type": "markdown",
   "metadata": {},
   "source": [
    "**Assignment Points**: 100  (*worth 30% of total Grade*)\n",
    "\n",
    "**Due Date**: Friday Week 8 (19 September 2025) @ 11.59pm  \n",
    "**Submission**: Provide your answers in this Jupypter notebook and submit it via iLearn link  \n",
    "\n"
   ]
  },
  {
   "cell_type": "markdown",
   "metadata": {},
   "source": [
    "## **Predictive Analysis of Inventory Dead stock**\n",
    "\n",
    "### Objective: \n",
    "- This assignment focuses on a dataset of Inventory dead stock.\n",
    "- The primary goal is to predict which stock items are likely to be dead (e.g. not used or moved in a long time) using various data mining methods.\n",
    "\n",
    "### Background: \n",
    "A mid manufacturing retailer noticed that certain items in its warehouse across Australia had not moved for a number of months. These products included a number of products or materials stored or manufactured in the wharehouses. Despite being listed in the inventory system, they had no recent sales activity, were no longer featured in marketing campaigns, and had limited relevance to current customer needs.\n",
    "\n",
    "The inventory manager initiated a review to determine whether these items should be classified as dead stock—inventory that is unlikely to be sold due to obsolescence, lack of demand, damage, or other reasons that can impact their classification. The classification would allow the company to make informed decisions about markdowns, liquidation, or disposal, and free up valuable warehouse space. This project aims to refine this classification by identifying stock items (and possibly their wharehouses locations) that are likely to be dead stock, enhancing the precision of wharhouse facility storage planning\n",
    "\n",
    "Target variable\n",
    "- Dead stock (1=yes, 0=no)\n",
    "\n",
    "The dataset contains the features listed in the second **\"Readme\"** sheet of the Dataset file\n",
    "\n",
    "\n",
    "\n"
   ]
  },
  {
   "cell_type": "markdown",
   "metadata": {},
   "source": [
    "---\n",
    "\n",
    "**Problem 1** - Reading the dataset (Total Marks: 20)\n",
    "\n",
    "\n",
    "\n",
    "**Q1**. Create a pandas dataframe contining the first 3,000 rows from the Inventory dataset provided in the **Dataset** folder \n",
    "- Delete 'Item No.' column\n",
    "- Print `info()` of the dataframe\n",
    "\n",
    "(2 marks)\n",
    "\n",
    "- Do you recommend dropping/deleting any another column(s) from the Inventory dataset? \n",
    "\n",
    "If **YES** then:\n",
    "1- Identify which one(s) and\n",
    "2- Justify your selection in one sentence\n",
    "\n",
    "If **NO** then Justify your answer\n",
    "\n",
    "(3 marks) \n",
    "\n",
    "\n"
   ]
  },
  {
   "cell_type": "code",
   "execution_count": null,
   "metadata": {},
   "outputs": [],
   "source": [
    "import pandas as pd\n",
    "\n",
    "inventory_data = pd.read_excel('Dataset\\Inventory.xlsx')\n",
    "\n",
    "df = pd.DataFrame(inventory_data, index = range(0, 3000))\n",
    "\n",
    "df.drop(\"Item No. \", axis=1, inplace=True)\n",
    "print(df.info())"
   ]
  },
  {
   "cell_type": "markdown",
   "metadata": {},
   "source": [
    "---- provide your text answer here ----"
   ]
  },
  {
   "cell_type": "markdown",
   "metadata": {},
   "source": [
    "<hr style=\"width:25%;margin-left:0;\"> \n",
    "\n",
    "**Q2**. List which **features** are *numeric*, *ordinal*, and *nominal* variables, and how many features of each kind there are in the dataset.\n",
    "To answer this question \n",
    "\n",
    "- Find the definitions of numeric, ordinal and nominal variables in the course material    \n",
    "- Carefully consider what values each feature can take as well as the output of `df.info()`.\n",
    "- Make sure to check the **Readme** sheet in the dataset to understand the features description  \n",
    "\n",
    "Your answer should be written up in Markdown and include:\n",
    "1) A table listing all the features present in the dataset and their type (fill out the table template provided below) and\n",
    "2) A brief description of the contents of the table.\n",
    "\n",
    "|Variable Kind|Number of Features|Feature Names\n",
    "| --- | --- | --- |\n",
    "|  |  | |\n",
    "\n",
    "\n",
    "(10 marks)"
   ]
  },
  {
   "cell_type": "code",
   "execution_count": null,
   "metadata": {},
   "outputs": [],
   "source": [
    "# ---- provide your code here -----"
   ]
  },
  {
   "cell_type": "markdown",
   "metadata": {
    "tags": []
   },
   "source": [
    "|Variable Kind|Number of Features|Feature Names\n",
    "| --- | --- | --- |\n",
    "| Numeric | 24 | Total - Quantity, Inventory Aging Report Unit Cost, Total - Value, 6 Months QTY, 12 Months QTY, 2 Years QTY, Over 2 Years Qty, Over 3 Years Quantity, Jan, Feb, Mar, Apr, May, Jun, Jul, Aug, Sep, Oct, Nov, Dec, Avg monthly, Inventory Turn, % of over 2 year |\n",
    "| Ordinal  | 2 | ABC Class, Dead stock |\n",
    "| Nominal  | 6 | Item Description, Whse, State, Base Unit, Business Area, Item Type |\n",
    "\n",
    "The table above categorizes the features in the inventory dataset into three types:\n",
    "\n",
    "**Numeric**: These are quantitative variables that represent measurable amounts such as quantities, costs, and monthly usage. They are suitable for mathematical operations and statistical analysis.\n",
    "\n",
    "**Ordinal**: These variables have a meaningful order or ranking. For example:\n",
    "\n",
    "ABC Class typically ranks inventory items by importance or turnover.\n",
    "Dead stock indicates a binary status (Yes/No), which can be interpreted as ordered in terms of usability.\n",
    "\n",
    "**Nominal**: These are categorical variables without inherent order. Examples include:\n",
    "\n",
    "Item Description (textual identifiers),\n",
    "Whse, State, Base Unit, Business Area, and Item Type (codes or labels representing categories)."
   ]
  },
  {
   "cell_type": "markdown",
   "metadata": {},
   "source": [
    "<hr style=\"width:25%;margin-left:0;\"> \n",
    "\n",
    "**Q3.** Missing Values. \n",
    "\n",
    "- Print out the number of missing values for each variable in the dataset and comment on your findings.\n",
    "\n",
    "(5 marks)"
   ]
  },
  {
   "cell_type": "code",
   "execution_count": null,
   "metadata": {},
   "outputs": [],
   "source": [
    "print(df.isnull().sum())"
   ]
  },
  {
   "cell_type": "markdown",
   "metadata": {},
   "source": [
    "\n",
    "There is one missing value for 'Item Description' variable, other variables don't have missing values"
   ]
  },
  {
   "cell_type": "markdown",
   "metadata": {},
   "source": [
    "---\n",
    "---\n",
    "\n",
    "**Problem 2.** Cleaning data and dealing with categorical features (Total Marks: 40)\n"
   ]
  },
  {
   "cell_type": "markdown",
   "metadata": {},
   "source": [
    "**Q1.** \n",
    "\n",
    "- Use an appropriate `pandas` function to impute missing values using one of the following two strategies: `mean` and `mode`. (10 marks)\n",
    "    - Take into consideration the type of each variable (as in Q2 above) and the best practices we discussed in class/lecture notes\n",
    "- Explain what data imputation is, how you have done it here, and what decisions you had to make. (5 marks)\n",
    "\n",
    "\n",
    "(Total: 15 marks)"
   ]
  },
  {
   "cell_type": "code",
   "execution_count": null,
   "metadata": {},
   "outputs": [],
   "source": [
    "\n",
    "numerical_cols = df.select_dtypes(include=['number']).columns\n",
    "categorical_cols = df.select_dtypes(include=['object', 'category', 'bool']).columns\n",
    "\n",
    "\n",
    "df[numerical_cols] = df[numerical_cols].apply(lambda x: x.fillna(x.mean()))\n",
    "\n",
    "for col in categorical_cols:\n",
    "    if df[col].isnull().any():\n",
    "        mode_val = df[col].mode()\n",
    "        if not mode_val.empty:\n",
    "            df[col] = df[col].fillna(mode_val[0])\n"
   ]
  },
  {
   "cell_type": "markdown",
   "metadata": {},
   "source": [
    "---- provide your text answer here ----\n",
    "- Data imputation is the process of replacing missing or null values in a dataset with substituted values.\n",
    "- Data Type Identification:\n",
    "\n",
    "    - Numerical columns (e.g., quantities, costs, values) were identified using pandas' select_dtypes.\n",
    "    - Categorical columns (e.g., item descriptions, warehouse codes, states) were also identified.\n",
    "\n",
    "- Imputation Strategy:\n",
    "    - Numerical columns: Missing values were replaced with the mean of each column.This is suitable when data is approximately normally distributed and outliers are minimal.\n",
    "    - Categorical columns: Missing values were replaced with the mode (most frequent value This preserves the most common category and avoids introducing rare or invalid values.\n",
    "    \n",
    "- Validation: After imputation, the total number of missing values was confirmed to be zero.\n",
    "\n",
    "\n",
    "Decisions Made\n",
    "Mean vs. Mode: Chosen based on data type and best practices discussed in class.\n",
    "No Imputation for Non-Missing Columns: Only columns with missing values were processed.\n",
    "Preservation of Original Structure: Imputation was done without altering column types or introducing new categories."
   ]
  },
  {
   "cell_type": "markdown",
   "metadata": {},
   "source": [
    "<hr style=\"width:25%;margin-left:0;\"> \n",
    "\n",
    "**Q2**. \n",
    "- Print `value_counts()` of the 'State' column and add a dummy variable named 'State_NSW' to `df` using `get_dummies()` (3 marks)\n",
    "- Carefully explain what the values of the new variable 'State_NSW' mean (2 mark)\n",
    "- Make sure the variable 'State' is deleted from the original dataframe   \n",
    "\n",
    "(Total: 5 marks)  "
   ]
  },
  {
   "cell_type": "code",
   "execution_count": null,
   "metadata": {},
   "outputs": [],
   "source": [
    "dummies = pd.get_dummies(df['State'], prefix='State')\n",
    "#print(dummies)\n",
    "df['State_NSW'] = dummies['State_NSW']\n",
    "df.drop('State', axis=1, inplace=True)\n"
   ]
  },
  {
   "cell_type": "markdown",
   "metadata": {},
   "source": [
    "\n",
    "- The new variable 'State_NSW' is a dummy variable:\n",
    "    - It takes the value 1 if the original 'State' was 'NSW'.\n",
    "    - It takes the value 0 otherwise."
   ]
  },
  {
   "cell_type": "markdown",
   "metadata": {},
   "source": [
    "<hr style=\"width:25%;margin-left:0;\"> \n",
    "\n",
    "**Q3**. Print `value_counts()` of the 'Whse' column and *carefully* comment on what you notice in relation to the definition of this variable. \n",
    "\n",
    "(Total: 5 marks) "
   ]
  },
  {
   "cell_type": "code",
   "execution_count": null,
   "metadata": {},
   "outputs": [],
   "source": [
    "print(df['Whse'].value_counts())"
   ]
  },
  {
   "cell_type": "markdown",
   "metadata": {},
   "source": [
    "- 1N1 is the most frequently used warehouse location, storing the largest number of items.\n",
    "- The distribution suggests that inventory is not evenly spread across warehouses.\n",
    "- 1N1 could be a central or primary warehouse.\n",
    "- 1W0 and 1N0 might be regional or specialized warehouses with smaller capacities or specific roles."
   ]
  },
  {
   "cell_type": "markdown",
   "metadata": {},
   "source": [
    "<hr style=\"width:25%;margin-left:0;\"> \n",
    "\n",
    "**Q4**. \n",
    "\n",
    "- Apply `get_dummies()` to 'Whse' feature and add dummy variables 'Whse_1N0', 'Whse_1N1', 'Whse_1W0' to `df`. (5 marks)   \n",
    "- *Carefully consider* how to allocate all the values of 'Whse' across these 3 newly created features (5 marks)\n",
    "    - Do not delete observations \n",
    "    - Do not assume that the anomaly are missing observations      \n",
    "    - Explain what decision you made\n",
    "- Make sure that 'Whse' is deleted from `df`   \n",
    "\n",
    "(Total: 10 marks)   "
   ]
  },
  {
   "cell_type": "code",
   "execution_count": null,
   "metadata": {},
   "outputs": [],
   "source": [
    "Whse_dummy = pd.get_dummies(df['Whse'], prefix='Whse')\n",
    "\n",
    "for col in ['Whse_1N0', 'Whse_1N1', 'Whse_1W0']:\n",
    "    if col in Whse_dummy.columns:\n",
    "        df[col] = Whse_dummy[col]\n",
    "    else:\n",
    "        df[col] = 0\n",
    "\n",
    "df.drop('Whse', axis=1, inplace=True)"
   ]
  },
  {
   "cell_type": "markdown",
   "metadata": {},
   "source": [
    "---- provide your text answer here ----"
   ]
  },
  {
   "cell_type": "markdown",
   "metadata": {},
   "source": [
    "<hr style=\"width:25%;margin-left:0;\"> \n",
    "\n",
    "**Q5**. In the column 'Item Type', convert the values of all items that are FG --- into \"Finished Goods\", RM --- into \"Raw Materials\", keep \"WIP Manufactured\", while combine all others like [Subcontract (9), Customer Supplied (08), and  zItems] into type 'Other' so you have Four Item types **Finished Goods**, **Raw Materials**, **WIP Manufactured**, and **Other**. \n",
    "\n",
    "Now Encode all the remaining non numeric features using appropriate encoding method presented in class\n",
    "\n",
    "(Total: 5 marks)  "
   ]
  },
  {
   "cell_type": "code",
   "execution_count": null,
   "metadata": {},
   "outputs": [],
   "source": [
    "for i in range(len(df['Item Type'])):\n",
    "    if  df.loc[i, 'Item Type'].startswith('FG'):\n",
    "        #print(item.startswith('FG'))\n",
    "        df.loc[i, 'Item Type'] = 'Finished Goods'\n",
    "    elif  df.loc[i, 'Item Type'].startswith('RM'):\n",
    "        df.loc[i, 'Item Type'] = 'Raw Material'\n",
    "    elif  df.loc[i, 'Item Type'].startswith('WIP'):\n",
    "        df.loc[i, 'Item Type'] = 'WIP Manufactured'\n",
    "    else:\n",
    "       df.loc[i, 'Item Type'] = 'Other'\n",
    "\n"
   ]
  },
  {
   "cell_type": "markdown",
   "metadata": {},
   "source": [
    "---\n",
    "---\n",
    "\n",
    "**Problem 3** Preparing X and y arrays (Total Marks: 10)"
   ]
  },
  {
   "cell_type": "markdown",
   "metadata": {},
   "source": [
    "**Q1**. \n",
    "\n",
    "- Create a numpy array `y` from the first 80% observations of `Dead stock` column from `df` (2.5 marks)   \n",
    "- Create a numpy array `X`  from the first 80% observations of all the remaining variables in `df` (2.5 marks)   \n",
    "\n",
    "(Total: 5 Marks)"
   ]
  },
  {
   "cell_type": "code",
   "execution_count": null,
   "metadata": {},
   "outputs": [],
   "source": [
    "# ---- provide your code here -----"
   ]
  },
  {
   "cell_type": "markdown",
   "metadata": {},
   "source": [
    "<hr style=\"width:25%;margin-left:0;\"> \n",
    "\n",
    "**Q2**. \n",
    "\n",
    "- Use an appropriate `sklearn` library we used in class to create `y_train`, `y_test`, `X_train` and `X_test` by splitting the data into 80% train and 20% test datasets (2.5 marks) \n",
    "    - Set random_state to 31 and stratify the subsamples so that train and test datasets have roughly equal proportions of the target's class labels \n",
    "- Standardise the data to mean zero and variance one using an approapriate `sklearn` library (2.5 marks)   \n",
    "\n",
    "\n",
    "(Total: 5 marks) "
   ]
  },
  {
   "cell_type": "code",
   "execution_count": null,
   "metadata": {},
   "outputs": [],
   "source": [
    "# ---- provide your code here -----"
   ]
  },
  {
   "cell_type": "markdown",
   "metadata": {},
   "source": [
    "---\n",
    "---\n",
    "\n",
    "**Problem 4**. Training Models and Interpretation (Total Marks: 30)\n"
   ]
  },
  {
   "cell_type": "markdown",
   "metadata": {},
   "source": [
    "**Q1**. \n",
    "\n",
    "- Train one linear classifier we studied in class using standardised data (6 marks)\n",
    "- Compute and print training and test dataset accuracies (4 marks)\n",
    "\n",
    "(Total: 10 marks)   "
   ]
  },
  {
   "cell_type": "code",
   "execution_count": null,
   "metadata": {},
   "outputs": [],
   "source": [
    "# ---- provide your code here -----"
   ]
  },
  {
   "cell_type": "markdown",
   "metadata": {},
   "source": [
    "<hr style=\"width:25%;margin-left:0;\"> \n",
    "\n",
    "**Q2.**\n",
    "\n",
    "- Train one nonlinear classifier we studied in class on the same dataset (6 marks)\n",
    "- Compute and print training and test dataset accuracies (4 marks)\n",
    "\n",
    "\n",
    "(Total: 10 marks)  "
   ]
  },
  {
   "cell_type": "code",
   "execution_count": null,
   "metadata": {},
   "outputs": [],
   "source": [
    "# ---- provide answer here -----"
   ]
  },
  {
   "cell_type": "markdown",
   "metadata": {},
   "source": [
    "<hr style=\"width:25%;margin-left:0;\"> \n",
    "\n",
    "**Q3**. \n",
    "\n",
    "- Comment on the accuracy results obtained from the two classifiers (6 marks)\n",
    "- Based on our investigation into Dead stock predictions in this assignment, which model would you recommend and why? (4 marks)\n",
    "- What **feature(s)** do you believe has/have higest impact on predicting the outcome variable? Why?\n",
    "\n",
    "\n",
    "(Total: 10 marks)     \n"
   ]
  },
  {
   "cell_type": "markdown",
   "metadata": {},
   "source": [
    "---- provide your text answer here ----"
   ]
  },
  {
   "cell_type": "markdown",
   "metadata": {},
   "source": [
    "---\n",
    "---"
   ]
  },
  {
   "cell_type": "markdown",
   "metadata": {},
   "source": [
    "## Marking Criteria\n",
    "\n",
    "To achieve a perfect score, your solutions must adhere to the criteria outlined below:\n",
    "\n",
    "- Ensure that all numerical answers are accurate.\n",
    "- Utilize the exact Python functions and libraries specified within the assignment instructions.\n",
    "- For any written responses, provide accurate information, articulated in clear, complete sentences.\n",
    "- Do not add extra cells beyond what is provided in the notebook.\n",
    "- Do not print output with your code unless explicitly instructed to do so.\n",
    "- Maintain a clean and organised notebook layout that is easy to follow.\n",
    "- Marks will be deducted for not following the above instructions.\n",
    "    \n",
    "---\n",
    "---"
   ]
  },
  {
   "cell_type": "code",
   "execution_count": null,
   "metadata": {},
   "outputs": [],
   "source": []
  }
 ],
 "metadata": {
  "kernelspec": {
   "display_name": "venv",
   "language": "python",
   "name": "python3"
  },
  "language_info": {
   "codemirror_mode": {
    "name": "ipython",
    "version": 3
   },
   "file_extension": ".py",
   "mimetype": "text/x-python",
   "name": "python",
   "nbconvert_exporter": "python",
   "pygments_lexer": "ipython3",
   "version": "3.12.4"
  }
 },
 "nbformat": 4,
 "nbformat_minor": 4
}
