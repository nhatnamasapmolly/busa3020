{
 "cells": [
  {
   "cell_type": "code",
   "execution_count": 12,
   "id": "73c3b4fe",
   "metadata": {},
   "outputs": [],
   "source": [
    "import pandas as pd\n",
    "\n",
    "inventory_data = pd.read_excel('Inventory.xlsx')\n",
    "\n",
    "df = pd.DataFrame(inventory_data, index = range(0, 3000))\n",
    "df.drop(\"Item No. \", axis=1, inplace=True)\n",
    "#print(df.info()) \n",
    "#print(df.isnull().sum())"
   ]
  },
  {
   "cell_type": "code",
   "execution_count": 13,
   "id": "76e27a5e",
   "metadata": {},
   "outputs": [],
   "source": [
    "\n",
    "numerical_cols = df.select_dtypes(include=['number']).columns\n",
    "categorical_cols = df.select_dtypes(include=['object', 'category', 'bool']).columns\n",
    "\n",
    "# Impute missing values\n",
    "# For numerical columns, use mean\n",
    "df[numerical_cols] = df[numerical_cols].apply(lambda x: x.fillna(x.mean()))\n",
    "\n",
    "# For categorical columns, use mode\n",
    "for col in categorical_cols:\n",
    "    if df[col].isnull().any():\n",
    "        mode_val = df[col].mode()\n",
    "        if not mode_val.empty:\n",
    "            df[col] = df[col].fillna(mode_val[0])\n",
    "\n",
    "\n",
    "\n"
   ]
  },
  {
   "cell_type": "code",
   "execution_count": 14,
   "id": "feb9c1cf",
   "metadata": {},
   "outputs": [
    {
     "name": "stdout",
     "output_type": "stream",
     "text": [
      "Item Description                    0\n",
      "Whse                                0\n",
      "State                               0\n",
      "Base Unit                           0\n",
      "Total - Quantity                    0\n",
      "Inventory Aging Report Unit Cost    0\n",
      "Total - Value                       0\n",
      "6 Months QTY                        0\n",
      "12 Months QTY                       0\n",
      "2 Years QTY                         0\n",
      "Over 2 Years Qty                    0\n",
      "Over 3 Years Quantity               0\n",
      "Business Area                       0\n",
      "Item Type                           0\n",
      "ABC Class                           0\n",
      "Jan                                 0\n",
      "Feb                                 0\n",
      "Mar                                 0\n",
      "Apr                                 0\n",
      "May                                 0\n",
      "Jun                                 0\n",
      "Jul                                 0\n",
      "Aug                                 0\n",
      "Sep                                 0\n",
      "Oct                                 0\n",
      "Nov                                 0\n",
      "Dec                                 0\n",
      "Avg monthly                         0\n",
      "Inventory Turn                      0\n",
      "Over 2 years Qty                    0\n",
      "% of over 2 year                    0\n",
      "Dead stock                          0\n",
      "dtype: int64\n",
      "State\n",
      "NSW    2113\n",
      "WA      887\n",
      "Name: count, dtype: int64\n"
     ]
    }
   ],
   "source": [
    "print(df.isnull().sum())\n",
    "\n",
    "print(df['State'].value_counts())\n",
    "\n"
   ]
  },
  {
   "cell_type": "code",
   "execution_count": 15,
   "id": "16a1e62c",
   "metadata": {},
   "outputs": [],
   "source": [
    "dummies = pd.get_dummies(df['State'], prefix='State')\n",
    "#print(dummies)\n",
    "df['State_NSW'] = dummies['State_NSW']\n",
    "df.drop('State', axis=1, inplace=True)"
   ]
  },
  {
   "cell_type": "code",
   "execution_count": 16,
   "id": "b136f95a",
   "metadata": {},
   "outputs": [
    {
     "name": "stdout",
     "output_type": "stream",
     "text": [
      "Whse\n",
      "1N1    1318\n",
      "1W0     887\n",
      "1N0     795\n",
      "Name: count, dtype: int64\n"
     ]
    }
   ],
   "source": [
    "print(df['Whse'].value_counts())"
   ]
  },
  {
   "cell_type": "code",
   "execution_count": 17,
   "id": "b6a7b509",
   "metadata": {},
   "outputs": [],
   "source": [
    "Whse_dummy = pd.get_dummies(df['Whse'], prefix='Whse')\n",
    "\n",
    "for col in ['Whse_1N0', 'Whse_1N1', 'Whse_1W0']:\n",
    "    if col in Whse_dummy.columns:\n",
    "        df[col] = Whse_dummy[col]\n",
    "    else:\n",
    "        df[col] = 0\n",
    "\n",
    "df.drop('Whse', axis=1, inplace=True)"
   ]
  },
  {
   "cell_type": "code",
   "execution_count": 18,
   "id": "d3965cea",
   "metadata": {},
   "outputs": [],
   "source": [
    "#print(df['Item Type'].value_counts())\n",
    "\n",
    "for i in range(len(df['Item Type'])):\n",
    "    if  df.loc[i, 'Item Type'].startswith('FG'):\n",
    "        #print(item.startswith('FG'))\n",
    "        df.loc[i, 'Item Type'] = 'Finished Goods'\n",
    "    elif  df.loc[i, 'Item Type'].startswith('RM'):\n",
    "        df.loc[i, 'Item Type'] = 'Raw Material'\n",
    "    elif  df.loc[i, 'Item Type'].startswith('WIP'):\n",
    "        df.loc[i, 'Item Type'] = 'WIP Manufactured'\n",
    "    else:\n",
    "       df.loc[i, 'Item Type'] = 'Other'\n",
    "\n",
    "#print(df['Item Type'].value_counts())\n",
    "    "
   ]
  },
  {
   "cell_type": "code",
   "execution_count": 19,
   "id": "6f95f708",
   "metadata": {},
   "outputs": [
    {
     "name": "stdout",
     "output_type": "stream",
     "text": [
      "Base Unit\n",
      "EA    2065\n",
      "PC     880\n",
      "KG      28\n",
      "MT      26\n",
      "ML       1\n",
      "Name: count, dtype: int64\n"
     ]
    }
   ],
   "source": [
    "#print(df['Business Area'].value_counts())\n",
    "print(df['Base Unit'].value_counts())\n",
    "#print(df['ABC Class'].value_counts())\n"
   ]
  },
  {
   "cell_type": "code",
   "execution_count": 20,
   "id": "5f218dca",
   "metadata": {},
   "outputs": [],
   "source": [
    "base_unit_dummies = pd.get_dummies(df['Base Unit'], prefix='Base_Unit')\n",
    "for col in base_unit_dummies.columns:\n",
    "    if col in base_unit_dummies.columns:\n",
    "        df[col] = base_unit_dummies[col]\n",
    "    else:\n",
    "        df[col] = 0\n",
    "df.drop('Base Unit', axis=1, inplace=True)\n"
   ]
  },
  {
   "cell_type": "code",
   "execution_count": 21,
   "id": "64ac6dce",
   "metadata": {},
   "outputs": [],
   "source": [
    "bussiness_area_dummies = pd.get_dummies(df['Business Area'], prefix='Business_Area')\n",
    "for col in bussiness_area_dummies.columns:\n",
    "    if col in bussiness_area_dummies.columns:\n",
    "        df[col] = bussiness_area_dummies[col]\n",
    "    else:\n",
    "        df[col] = 0\n",
    "df.drop('Business Area', axis=1, inplace=True)\n"
   ]
  },
  {
   "cell_type": "code",
   "execution_count": null,
   "id": "53e341dd",
   "metadata": {},
   "outputs": [
    {
     "name": "stdout",
     "output_type": "stream",
     "text": [
      "Dead stock\n",
      "0    2830\n",
      "1     170\n",
      "Name: count, dtype: int64\n"
     ]
    }
   ],
   "source": [
    "dead_stock = {\"Yes\": 1, \"No\": 0}\n",
    "df['Dead stock'] = df['Dead stock'].map(dead_stock)\n"
   ]
  },
  {
   "cell_type": "code",
   "execution_count": null,
   "id": "6f75ce65",
   "metadata": {},
   "outputs": [
    {
     "name": "stdout",
     "output_type": "stream",
     "text": [
      "ABC Class\n",
      "I    855\n",
      "J    667\n",
      "C    449\n",
      "H    370\n",
      "E    291\n",
      "A    235\n",
      "F     92\n",
      "B     40\n",
      "0      1\n",
      "Name: count, dtype: int64\n"
     ]
    }
   ],
   "source": [
    "print(df['ABC Class'].value_counts())\n"
   ]
  }
 ],
 "metadata": {
  "kernelspec": {
   "display_name": "Python 3",
   "language": "python",
   "name": "python3"
  },
  "language_info": {
   "codemirror_mode": {
    "name": "ipython",
    "version": 3
   },
   "file_extension": ".py",
   "mimetype": "text/x-python",
   "name": "python",
   "nbconvert_exporter": "python",
   "pygments_lexer": "ipython3",
   "version": "3.11.3"
  }
 },
 "nbformat": 4,
 "nbformat_minor": 5
}
